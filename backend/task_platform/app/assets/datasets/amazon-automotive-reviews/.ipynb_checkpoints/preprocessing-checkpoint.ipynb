{
 "cells": [
  {
   "cell_type": "code",
   "execution_count": 8,
   "id": "61292574",
   "metadata": {},
   "outputs": [],
   "source": [
    "import pandas as pd"
   ]
  },
  {
   "cell_type": "code",
   "execution_count": 27,
   "id": "0296f19f",
   "metadata": {},
   "outputs": [
    {
     "name": "stdout",
     "output_type": "stream",
     "text": [
      "Number of items:  7121\n",
      "    overall                          summary  \\\n",
      "7         5             for cars and pickups   \n",
      "18        5  No Brainer, Easy to Use, Sturdy   \n",
      "20        5                         Love It!   \n",
      "24        3                          average   \n",
      "25        2      Does what it is supposed to   \n",
      "\n",
      "                                           reviewText  \n",
      "7   these are good enough to get most motorized ve...  \n",
      "18                                                     \n",
      "20  This was exactly what I needed for transportin...  \n",
      "24  this product does what it is supposed to do, b...  \n",
      "25  I would not buy this product again. It does wh...  \n"
     ]
    },
    {
     "name": "stderr",
     "output_type": "stream",
     "text": [
      "C:\\Users\\User\\AppData\\Local\\Temp\\ipykernel_1116\\3957342681.py:3: SettingWithCopyWarning: \n",
      "A value is trying to be set on a copy of a slice from a DataFrame.\n",
      "Try using .loc[row_indexer,col_indexer] = value instead\n",
      "\n",
      "See the caveats in the documentation: https://pandas.pydata.org/pandas-docs/stable/user_guide/indexing.html#returning-a-view-versus-a-copy\n",
      "  sample['classification'] = sample['overall'].replace({1: 'negative', 3: 'neutral', 5: 'positive'})\n",
      "C:\\Users\\User\\AppData\\Local\\Temp\\ipykernel_1116\\3957342681.py:7: SettingWithCopyWarning: \n",
      "A value is trying to be set on a copy of a slice from a DataFrame.\n",
      "Try using .loc[row_indexer,col_indexer] = value instead\n",
      "\n",
      "See the caveats in the documentation: https://pandas.pydata.org/pandas-docs/stable/user_guide/indexing.html#returning-a-view-versus-a-copy\n",
      "  sample['weights'] = sample['overall'].replace({1: 1 - (neg / sample.shape[0]), 3: 1 - (neu / sample.shape[0]), 5: 1 - (pos / sample.shape[0])})\n"
     ]
    }
   ],
   "source": [
    "df = pd.read_json('Automotive_5.json', lines=True)\n",
    "df = df[df['reviewText'].apply(lambda x: len(x) < 200)]\n",
    "sample = df[df['overall'].apply(lambda x: x==1 or x==3 or x==5)]\n",
    "sample['classification'] = sample['overall'].replace({1: 'negative', 3: 'neutral', 5: 'positive'})\n",
    "neg = (sample.classification == 'negative').sum()\n",
    "neu = (sample.classification == 'neutral').sum()\n",
    "pos = (sample.classification == 'positive').sum()\n",
    "sample['weights'] = sample['overall'].replace({1: 1 - (neg / sample.shape[0]), 3: 1 - (neu / sample.shape[0]), 5: 1 - (pos / sample.shape[0])})\n",
    "sample = sample.sample(100, weights=sample['weights'])\n",
    "df = df.drop(sample.index)\n",
    "df = df[['overall', 'summary', 'reviewText']]\n",
    "print('Number of items: ', df.shape[0])\n",
    "print(df.head())"
   ]
  },
  {
   "cell_type": "code",
   "execution_count": 28,
   "id": "7e6b0545",
   "metadata": {},
   "outputs": [],
   "source": [
    "df.iloc[:100,:].to_json('automotive_processed_min.json', orient='records')"
   ]
  },
  {
   "cell_type": "code",
   "execution_count": 29,
   "id": "a75c10e6",
   "metadata": {},
   "outputs": [],
   "source": [
    "df.to_json('automotive_processed.json', orient='records')"
   ]
  },
  {
   "cell_type": "code",
   "execution_count": 30,
   "id": "5a19265b",
   "metadata": {},
   "outputs": [],
   "source": [
    "sample[['overall', 'summary', 'reviewText', 'classification']].to_json('sentiment_gold.json', orient='records')"
   ]
  },
  {
   "cell_type": "code",
   "execution_count": null,
   "id": "9cd7bb44",
   "metadata": {},
   "outputs": [],
   "source": []
  },
  {
   "cell_type": "code",
   "execution_count": null,
   "id": "443f467f",
   "metadata": {},
   "outputs": [],
   "source": []
  },
  {
   "cell_type": "code",
   "execution_count": null,
   "id": "1cfde69e",
   "metadata": {},
   "outputs": [],
   "source": []
  }
 ],
 "metadata": {
  "kernelspec": {
   "display_name": "SKLearn-env",
   "language": "python",
   "name": "sklearn-env"
  },
  "language_info": {
   "codemirror_mode": {
    "name": "ipython",
    "version": 3
   },
   "file_extension": ".py",
   "mimetype": "text/x-python",
   "name": "python",
   "nbconvert_exporter": "python",
   "pygments_lexer": "ipython3",
   "version": "3.10.4"
  }
 },
 "nbformat": 4,
 "nbformat_minor": 5
}
