{
 "cells": [
  {
   "cell_type": "code",
   "execution_count": 1,
   "id": "61292574",
   "metadata": {},
   "outputs": [],
   "source": [
    "import pandas as pd"
   ]
  },
  {
   "cell_type": "code",
   "execution_count": 14,
   "id": "0296f19f",
   "metadata": {},
   "outputs": [
    {
     "name": "stdout",
     "output_type": "stream",
     "text": [
      "   overall                                     summary  \\\n",
      "0        5  Work Well - Should Have Bought Longer Ones   \n",
      "1        4                            Okay long cables   \n",
      "2        5                  Looks and feels heavy Duty   \n",
      "3        5       Excellent choice for Jumper Cables!!!   \n",
      "4        5      Excellent, High Quality Starter Cables   \n",
      "\n",
      "                                          reviewText  \n",
      "0  I needed a set of jumper cables for my new car...  \n",
      "1  These long cables work fine for my truck, but ...  \n",
      "2  Can't comment much on these since they have no...  \n",
      "3  I absolutley love Amazon!!!  For the price of ...  \n",
      "4  I purchased the 12' feet long cable set and th...  \n"
     ]
    }
   ],
   "source": [
    "df = pd.read_json('Automotive_5.json', lines=True)\n",
    "df = df[['overall', 'summary', 'reviewText']]\n",
    "print(df.head())"
   ]
  },
  {
   "cell_type": "code",
   "execution_count": 15,
   "id": "7e6b0545",
   "metadata": {},
   "outputs": [],
   "source": [
    "df.iloc[:100,:].to_json('automotive_processed_min.json', orient='records')"
   ]
  },
  {
   "cell_type": "code",
   "execution_count": null,
   "id": "a75c10e6",
   "metadata": {},
   "outputs": [],
   "source": [
    "df.to_json('automotive_processed.json', orient='records')"
   ]
  }
 ],
 "metadata": {
  "kernelspec": {
   "display_name": "SKLearn-env",
   "language": "python",
   "name": "sklearn-env"
  },
  "language_info": {
   "codemirror_mode": {
    "name": "ipython",
    "version": 3
   },
   "file_extension": ".py",
   "mimetype": "text/x-python",
   "name": "python",
   "nbconvert_exporter": "python",
   "pygments_lexer": "ipython3",
   "version": "3.10.4"
  }
 },
 "nbformat": 4,
 "nbformat_minor": 5
}
