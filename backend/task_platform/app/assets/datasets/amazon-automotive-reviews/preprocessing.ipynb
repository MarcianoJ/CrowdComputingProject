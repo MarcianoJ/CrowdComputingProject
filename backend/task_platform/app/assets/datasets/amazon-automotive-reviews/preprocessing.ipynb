{
 "cells": [
  {
   "cell_type": "code",
   "execution_count": 8,
   "id": "61292574",
   "metadata": {},
   "outputs": [],
   "source": [
    "import pandas as pd"
   ]
  },
  {
   "cell_type": "code",
   "execution_count": 13,
   "id": "0296f19f",
   "metadata": {},
   "outputs": [
    {
     "name": "stdout",
     "output_type": "stream",
     "text": [
      "Number of items:  7155\n",
      "    overall                          summary  \\\n",
      "7         5             for cars and pickups   \n",
      "18        5  No Brainer, Easy to Use, Sturdy   \n",
      "20        5                         Love It!   \n",
      "24        3                          average   \n",
      "25        2      Does what it is supposed to   \n",
      "\n",
      "                                           reviewText  \n",
      "7   these are good enough to get most motorized ve...  \n",
      "18                                                     \n",
      "20  This was exactly what I needed for transportin...  \n",
      "24  this product does what it is supposed to do, b...  \n",
      "25  I would not buy this product again. It does wh...  \n"
     ]
    }
   ],
   "source": [
    "df = pd.read_json('Automotive_5.json', lines=True)\n",
    "df = df[['overall', 'summary', 'reviewText']]\n",
    "df = df[df['reviewText'].apply(lambda x: len(x) < 200)]\n",
    "print('Number of items: ', df.shape[0])\n",
    "print(df.head())"
   ]
  },
  {
   "cell_type": "code",
   "execution_count": 15,
   "id": "7e6b0545",
   "metadata": {},
   "outputs": [],
   "source": [
    "df.iloc[:100,:].to_json('automotive_processed_min.json', orient='records')"
   ]
  },
  {
   "cell_type": "code",
   "execution_count": 14,
   "id": "a75c10e6",
   "metadata": {},
   "outputs": [],
   "source": [
    "df.to_json('automotive_processed.json', orient='records')"
   ]
  },
  {
   "cell_type": "code",
   "execution_count": null,
   "id": "5a19265b",
   "metadata": {},
   "outputs": [],
   "source": []
  }
 ],
 "metadata": {
  "kernelspec": {
   "display_name": "SKLearn-env",
   "language": "python",
   "name": "sklearn-env"
  },
  "language_info": {
   "codemirror_mode": {
    "name": "ipython",
    "version": 3
   },
   "file_extension": ".py",
   "mimetype": "text/x-python",
   "name": "python",
   "nbconvert_exporter": "python",
   "pygments_lexer": "ipython3",
   "version": "3.10.4"
  }
 },
 "nbformat": 4,
 "nbformat_minor": 5
}
